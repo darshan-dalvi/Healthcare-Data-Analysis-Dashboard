{
 "cells": [
  {
   "cell_type": "markdown",
   "metadata": {},
   "source": []
  },
  {
   "cell_type": "code",
   "execution_count": 1,
   "metadata": {},
   "outputs": [],
   "source": [
    "import pandas as pd\n",
    "import numpy as np"
   ]
  },
  {
   "cell_type": "code",
   "execution_count": 4,
   "metadata": {},
   "outputs": [
    {
     "data": {
      "text/html": [
       "<div>\n",
       "<style scoped>\n",
       "    .dataframe tbody tr th:only-of-type {\n",
       "        vertical-align: middle;\n",
       "    }\n",
       "\n",
       "    .dataframe tbody tr th {\n",
       "        vertical-align: top;\n",
       "    }\n",
       "\n",
       "    .dataframe thead th {\n",
       "        text-align: right;\n",
       "    }\n",
       "</style>\n",
       "<table border=\"1\" class=\"dataframe\">\n",
       "  <thead>\n",
       "    <tr style=\"text-align: right;\">\n",
       "      <th></th>\n",
       "      <th>Patient_ID</th>\n",
       "      <th>Admit_Date</th>\n",
       "      <th>Discharge_Date</th>\n",
       "      <th>Diagnosis</th>\n",
       "      <th>Bed_Occupancy</th>\n",
       "      <th>Test</th>\n",
       "      <th>Doctor</th>\n",
       "      <th>Followup Date</th>\n",
       "      <th>Feedback</th>\n",
       "      <th>Billing Amount</th>\n",
       "      <th>Health Insurance Amount</th>\n",
       "    </tr>\n",
       "  </thead>\n",
       "  <tbody>\n",
       "    <tr>\n",
       "      <th>0</th>\n",
       "      <td>23571</td>\n",
       "      <td>2022-12-31</td>\n",
       "      <td>2023-01-12</td>\n",
       "      <td>Viral Infection</td>\n",
       "      <td>General</td>\n",
       "      <td>MRI</td>\n",
       "      <td>Jay Sinha</td>\n",
       "      <td>2023-01-20</td>\n",
       "      <td>5.0</td>\n",
       "      <td>13234</td>\n",
       "      <td>11910.6</td>\n",
       "    </tr>\n",
       "    <tr>\n",
       "      <th>1</th>\n",
       "      <td>27781</td>\n",
       "      <td>2023-01-04</td>\n",
       "      <td>2023-01-12</td>\n",
       "      <td>Typhoid</td>\n",
       "      <td>ICU</td>\n",
       "      <td>MRI</td>\n",
       "      <td>Jaya Yaadav</td>\n",
       "      <td>2023-01-16</td>\n",
       "      <td>4.0</td>\n",
       "      <td>12241</td>\n",
       "      <td>11016.9</td>\n",
       "    </tr>\n",
       "  </tbody>\n",
       "</table>\n",
       "</div>"
      ],
      "text/plain": [
       "   Patient_ID Admit_Date Discharge_Date         Diagnosis Bed_Occupancy Test  \\\n",
       "0       23571 2022-12-31     2023-01-12  Viral Infection        General  MRI   \n",
       "1       27781 2023-01-04     2023-01-12           Typhoid           ICU  MRI   \n",
       "\n",
       "        Doctor Followup Date  Feedback  Billing Amount  \\\n",
       "0    Jay Sinha    2023-01-20       5.0           13234   \n",
       "1  Jaya Yaadav    2023-01-16       4.0           12241   \n",
       "\n",
       "   Health Insurance Amount  \n",
       "0                  11910.6  \n",
       "1                  11016.9  "
      ]
     },
     "execution_count": 4,
     "metadata": {},
     "output_type": "execute_result"
    }
   ],
   "source": [
    "# Importing the Healthcare Dataset\n",
    "df = pd.read_excel('Healthcare.xlsx')\n",
    "df.head(2)"
   ]
  },
  {
   "cell_type": "code",
   "execution_count": 5,
   "metadata": {},
   "outputs": [
    {
     "data": {
      "text/plain": [
       "Patient_ID                          int64\n",
       "Admit_Date                 datetime64[ns]\n",
       "Discharge_Date             datetime64[ns]\n",
       "Diagnosis                          object\n",
       "Bed_Occupancy                      object\n",
       "Test                               object\n",
       "Doctor                             object\n",
       "Followup Date              datetime64[ns]\n",
       "Feedback                          float64\n",
       "Billing Amount                      int64\n",
       "Health Insurance Amount           float64\n",
       "dtype: object"
      ]
     },
     "execution_count": 5,
     "metadata": {},
     "output_type": "execute_result"
    }
   ],
   "source": [
    "# Checking the Columns data types\n",
    "df.dtypes"
   ]
  },
  {
   "cell_type": "code",
   "execution_count": 8,
   "metadata": {},
   "outputs": [],
   "source": [
    "# Clusturing the data by there data types\n",
    "categoical = df[[\"Diagnosis\",\"Bed_Occupancy\",\"Test\",\"Doctor\"]]\n",
    "continous = df[[\"Feedback\",\"Billing Amount\",\"Health Insurance Amount\"]]"
   ]
  },
  {
   "cell_type": "code",
   "execution_count": 17,
   "metadata": {},
   "outputs": [
    {
     "data": {
      "text/html": [
       "<div>\n",
       "<style scoped>\n",
       "    .dataframe tbody tr th:only-of-type {\n",
       "        vertical-align: middle;\n",
       "    }\n",
       "\n",
       "    .dataframe tbody tr th {\n",
       "        vertical-align: top;\n",
       "    }\n",
       "\n",
       "    .dataframe thead th {\n",
       "        text-align: right;\n",
       "    }\n",
       "</style>\n",
       "<table border=\"1\" class=\"dataframe\">\n",
       "  <thead>\n",
       "    <tr style=\"text-align: right;\">\n",
       "      <th></th>\n",
       "      <th>count</th>\n",
       "      <th>unique</th>\n",
       "      <th>top</th>\n",
       "      <th>freq</th>\n",
       "    </tr>\n",
       "  </thead>\n",
       "  <tbody>\n",
       "    <tr>\n",
       "      <th>Diagnosis</th>\n",
       "      <td>7157</td>\n",
       "      <td>6</td>\n",
       "      <td>Viral Infection</td>\n",
       "      <td>2004</td>\n",
       "    </tr>\n",
       "    <tr>\n",
       "      <th>Bed_Occupancy</th>\n",
       "      <td>7157</td>\n",
       "      <td>3</td>\n",
       "      <td>Private</td>\n",
       "      <td>3579</td>\n",
       "    </tr>\n",
       "    <tr>\n",
       "      <th>Test</th>\n",
       "      <td>7157</td>\n",
       "      <td>5</td>\n",
       "      <td>Blood Test</td>\n",
       "      <td>2236</td>\n",
       "    </tr>\n",
       "    <tr>\n",
       "      <th>Doctor</th>\n",
       "      <td>7157</td>\n",
       "      <td>7</td>\n",
       "      <td>Jay Sinha</td>\n",
       "      <td>1023</td>\n",
       "    </tr>\n",
       "  </tbody>\n",
       "</table>\n",
       "</div>"
      ],
      "text/plain": [
       "              count unique               top  freq\n",
       "Diagnosis      7157      6  Viral Infection   2004\n",
       "Bed_Occupancy  7157      3           Private  3579\n",
       "Test           7157      5        Blood Test  2236\n",
       "Doctor         7157      7         Jay Sinha  1023"
      ]
     },
     "execution_count": 17,
     "metadata": {},
     "output_type": "execute_result"
    }
   ],
   "source": [
    "categoical.describe().T"
   ]
  },
  {
   "cell_type": "code",
   "execution_count": 19,
   "metadata": {},
   "outputs": [
    {
     "data": {
      "text/html": [
       "<div>\n",
       "<style scoped>\n",
       "    .dataframe tbody tr th:only-of-type {\n",
       "        vertical-align: middle;\n",
       "    }\n",
       "\n",
       "    .dataframe tbody tr th {\n",
       "        vertical-align: top;\n",
       "    }\n",
       "\n",
       "    .dataframe thead th {\n",
       "        text-align: right;\n",
       "    }\n",
       "</style>\n",
       "<table border=\"1\" class=\"dataframe\">\n",
       "  <thead>\n",
       "    <tr style=\"text-align: right;\">\n",
       "      <th></th>\n",
       "      <th>count</th>\n",
       "      <th>mean</th>\n",
       "      <th>std</th>\n",
       "      <th>min</th>\n",
       "      <th>25%</th>\n",
       "      <th>50%</th>\n",
       "      <th>75%</th>\n",
       "      <th>max</th>\n",
       "    </tr>\n",
       "  </thead>\n",
       "  <tbody>\n",
       "    <tr>\n",
       "      <th>Feedback</th>\n",
       "      <td>7157.0</td>\n",
       "      <td>4.723543</td>\n",
       "      <td>0.479901</td>\n",
       "      <td>3.5</td>\n",
       "      <td>4.5</td>\n",
       "      <td>5.0</td>\n",
       "      <td>5.0</td>\n",
       "      <td>5.0</td>\n",
       "    </tr>\n",
       "    <tr>\n",
       "      <th>Billing Amount</th>\n",
       "      <td>7157.0</td>\n",
       "      <td>26607.891854</td>\n",
       "      <td>25791.931009</td>\n",
       "      <td>1223.0</td>\n",
       "      <td>5454.0</td>\n",
       "      <td>12348.0</td>\n",
       "      <td>43522.0</td>\n",
       "      <td>95867.0</td>\n",
       "    </tr>\n",
       "    <tr>\n",
       "      <th>Health Insurance Amount</th>\n",
       "      <td>7157.0</td>\n",
       "      <td>23947.102669</td>\n",
       "      <td>23212.737908</td>\n",
       "      <td>1100.7</td>\n",
       "      <td>4908.6</td>\n",
       "      <td>11113.2</td>\n",
       "      <td>39169.8</td>\n",
       "      <td>86280.3</td>\n",
       "    </tr>\n",
       "  </tbody>\n",
       "</table>\n",
       "</div>"
      ],
      "text/plain": [
       "                          count          mean           std     min     25%  \\\n",
       "Feedback                 7157.0      4.723543      0.479901     3.5     4.5   \n",
       "Billing Amount           7157.0  26607.891854  25791.931009  1223.0  5454.0   \n",
       "Health Insurance Amount  7157.0  23947.102669  23212.737908  1100.7  4908.6   \n",
       "\n",
       "                             50%      75%      max  \n",
       "Feedback                     5.0      5.0      5.0  \n",
       "Billing Amount           12348.0  43522.0  95867.0  \n",
       "Health Insurance Amount  11113.2  39169.8  86280.3  "
      ]
     },
     "execution_count": 19,
     "metadata": {},
     "output_type": "execute_result"
    }
   ],
   "source": [
    "continous.describe().T"
   ]
  }
 ],
 "metadata": {
  "kernelspec": {
   "display_name": "base",
   "language": "python",
   "name": "python3"
  },
  "language_info": {
   "codemirror_mode": {
    "name": "ipython",
    "version": 3
   },
   "file_extension": ".py",
   "mimetype": "text/x-python",
   "name": "python",
   "nbconvert_exporter": "python",
   "pygments_lexer": "ipython3",
   "version": "3.12.4"
  }
 },
 "nbformat": 4,
 "nbformat_minor": 2
}
